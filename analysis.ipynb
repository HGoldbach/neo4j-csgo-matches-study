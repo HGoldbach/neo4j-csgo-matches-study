{
 "cells": [
  {
   "attachments": {},
   "cell_type": "markdown",
   "metadata": {},
   "source": [
    "# Performance"
   ]
  },
  {
   "attachments": {},
   "cell_type": "markdown",
   "metadata": {},
   "source": [
    "## Neo4j"
   ]
  },
  {
   "cell_type": "code",
   "execution_count": 12,
   "metadata": {},
   "outputs": [
    {
     "name": "stdout",
     "output_type": "stream",
     "text": [
      "time spent 0.427562952041626\n",
      "11485\n"
     ]
    }
   ],
   "source": [
    "from insert_neo4j import InsertCSGO as InsertNeo4j\n",
    "import time\n",
    "ic = InsertNeo4j(\"bolt://localhost:7687\", \"neo4j\", \"trabalhobd3\")\n",
    "\n",
    "\n",
    "time_start = time.time()\n",
    "### Listar jogadores que nunca jogaram juntos\n",
    "result = ic.run_query(\"\"\"\n",
    "MATCH (p1:Player{name: \"FalleN\"}), (p2:Player)\n",
    "WHERE id(p1) < id(p2)\n",
    "AND NOT EXISTS { \n",
    "  MATCH (p1)-[:PLAYER]->(m:Match)<-[:PLAYER]-(p2) \n",
    "}\n",
    "RETURN * LIMIT 1000000\n",
    "\"\"\")\n",
    "\n",
    "print(\"time spent\", time.time() - time_start)\n",
    "print(len(result.records))"
   ]
  },
  {
   "attachments": {},
   "cell_type": "markdown",
   "metadata": {},
   "source": [
    "## Mysql"
   ]
  },
  {
   "cell_type": "code",
   "execution_count": null,
   "metadata": {},
   "outputs": [],
   "source": [
    "from insert_mysql import InsertCSGO as InsertMySQL\n",
    "\n",
    "im = InsertMySQL(\"127.0.0.1\", \"root\", \"root\", \"csgo\")\n",
    "\n",
    "# TODO\n",
    "# Equivalent query \n",
    "# SELECT p1.name, p2.name\n",
    "# FROM player p1, player p2\n",
    "# WHERE p1.id < p2.id\n",
    "# AND NOT EXISTS (\n",
    "#  SELECT *\n",
    "# FROM player_match pm1, player_match pm2\n",
    "# WHERE pm1.player_id = p1.id\n",
    "# AND pm2.player_id = p2.id\n",
    "# AND pm1.match_id = pm2.match_id\n",
    "# )"
   ]
  }
 ],
 "metadata": {
  "kernelspec": {
   "display_name": "Python 3",
   "language": "python",
   "name": "python3"
  },
  "language_info": {
   "codemirror_mode": {
    "name": "ipython",
    "version": 3
   },
   "file_extension": ".py",
   "mimetype": "text/x-python",
   "name": "python",
   "nbconvert_exporter": "python",
   "pygments_lexer": "ipython3",
   "version": "3.11.3"
  },
  "orig_nbformat": 4
 },
 "nbformat": 4,
 "nbformat_minor": 2
}
